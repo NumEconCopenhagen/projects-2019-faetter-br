{
 "cells": [
  {
   "cell_type": "code",
   "execution_count": 28,
   "metadata": {},
   "outputs": [],
   "source": [
    "from scipy import optimize\n",
    "import math as math\n",
    "import numpy as np\n",
    "import pandas as pd\n",
    "import matplotlib.pyplot as plt\n",
    "import ipywidgets as wd"
   ]
  },
  {
   "cell_type": "markdown",
   "metadata": {},
   "source": [
    "# A simple CGE model\n",
    "In the first section of this code we construct a simple Computable General Equilibruim (CGE) model and calibrate it to an observed equilibrium. In the second section of this code we examine the properties of the model and the effect of certain shocks."
   ]
  },
  {
   "cell_type": "markdown",
   "metadata": {},
   "source": [
    "## Building a CGE model - a crash course in CGE-modelling\n",
    "The building blocks of a CGE model are:\n",
    "1. Model equations describing an economy\n",
    "2. Behavioural parameters\n",
    "3. Variable values representing an initial equilibrium\n",
    "\n",
    "Below we will construct a simple CGE model in three steps:\n",
    "1. We will define the model's equations. The model is a simple open economy with producers, consumers and a world market\n",
    "2. We will discuss the behavioural parameters\n",
    "3. We will calibrate the models unknown behavioural parameters such that the model can replicate the initial equilibrium"
   ]
  },
  {
   "cell_type": "markdown",
   "metadata": {},
   "source": [
    "### 1. Model equations\n",
    "Our model is a slightly modified version of a model from the course in applied CGE-modelling. The model consists of producers who buy labour and produce a single domestic consumption good, cosumers who sell labour to domestic producers and buy both domestic and foregin consumption goods, and a world market where producers can sell sell domestic goods and consumers can buy foreign goods.\n",
    "#### Domestic producers\n",
    "The domestic producers are in full competition with each other and all have the CES-production function:\n",
    "\n",
    "$$ Y = \\left[ \\mu^\\frac{1}{E_Y} L^\\frac{E_Y-1}{E_Y} \\right]^\\frac{E_Y}{E_Y-1} $$\n",
    "\n",
    "They maximize their profits:\n",
    "\n",
    "$$ \\pi = p_dY - wL $$\n",
    "\n",
    "This implies the following labour demand and zero profit condition, i.e. the price of the domestic consumption good is equal to the avg. costs of producing it.\n",
    "\n",
    "$$ \n",
    "\\begin{align}\n",
    "L = \\mu  \\left( \\frac{w}{p_d} \\right)^{-E_Y} Y \\tag{1}\n",
    "\\end{align}\n",
    "$$\n",
    "\n",
    "$$ \n",
    "\\begin{align}\n",
    "p_d = \\frac{w L}{Y} \\tag{2} \n",
    "\\end{align}\n",
    "$$\n",
    "\n",
    "Below we define the two equations:"
   ]
  },
  {
   "cell_type": "code",
   "execution_count": 29,
   "metadata": {},
   "outputs": [],
   "source": [
    "## Labour demand\n",
    "def E1_L_D(mu,w,p_d,E_Y,Y) :\n",
    "    \"\"\" Funtion defining the producers' demand for labour. \"\"\"\n",
    "    return mu * (w/p_d)**(-E_Y) * Y\n",
    "\n",
    "## Zero profit condition - expressed as a function of p_d\n",
    "def E2_p_d(Y,w,L) :\n",
    "    \"\"\"  Function defining the zero profit condidtion. \"\"\"\n",
    "    return w*L / Y"
   ]
  },
  {
   "cell_type": "markdown",
   "metadata": {},
   "source": [
    "#### Domestic consumers\n",
    "The model has N domestic consumers who have a CES utility function and derive utility from the consumption of domestic and foreign goods:\n",
    "\n",
    "$$ U(C_d,C_f)=\\left[ \\gamma_d^\\frac{1}{E_C} C_d^\\frac{E_C-1}{E_C} + \\gamma_f^\\frac{1}{E_C} C_f^\\frac{E_C-1}{E_C} \\right]^\\frac{E_C}{E_C-1} $$\n",
    "\n",
    "Their budget constaint is:\n",
    "\n",
    "$$\n",
    "\\begin{align}\n",
    "p_d C_d + p_f C_f = w N \\tag{3}\n",
    "\\end{align}\n",
    "$$\n",
    "\n",
    "The consumers maximize their utility subject to their budget constraint. This implies the following demand functions:\n",
    "\n",
    "$$\n",
    "\\begin{align}\n",
    "C_d = \\gamma_d \\left(\\frac{p_d}{P_C}\\right)^{-E_C} \\frac{wN}{P_C} \\tag{4}\n",
    "\\end{align}\n",
    "$$\n",
    "\n",
    "$$\n",
    "\\begin{align}\n",
    "C_f = \\gamma_d \\left(\\frac{p_f}{P_C}\\right)^{-E_C} \\frac{wN}{P_C} \\tag{5}\n",
    "\\end{align}\n",
    "$$\n",
    "\n",
    "$P_C$ is a CES-price index."
   ]
  },
  {
   "cell_type": "code",
   "execution_count": 30,
   "metadata": {},
   "outputs": [],
   "source": [
    "## The budget of the households constraint\n",
    "def E3_wN(p_d,C_d,p_f,C_f) :\n",
    "    \"\"\" Budget constraint of the households. \"\"\"\n",
    "    return p_d*C_d+p_f*C_f\n",
    "\n",
    "## The demand for the domestic consumption good\n",
    "def E4_C_d(gamma_d,p_d,P_C,E_C,w,N) :\n",
    "    \"\"\" Demand for domestic consumption.\"\"\"\n",
    "    return gamma_d * (p_d/P_C)**(-E_C) *w*N/P_C\n",
    "\n",
    "## The demand for the foreign consumption good\n",
    "def E5_C_f(gamma_f,p_f,P_C,E_C,w,N) :\n",
    "    \"\"\" Demand for foregin consumption good.\"\"\"\n",
    "    return gamma_f * (p_f/P_C)**(-E_C) *w*N/P_C"
   ]
  },
  {
   "cell_type": "markdown",
   "metadata": {},
   "source": [
    "#### The labour market\n",
    "We assume that everybody works. Thus the labour market becomes:\n",
    "\n",
    "$$\n",
    "\\begin{align}\n",
    "L = N \\tag{6}\n",
    "\\end{align}\n",
    "$$"
   ]
  },
  {
   "cell_type": "code",
   "execution_count": 31,
   "metadata": {},
   "outputs": [],
   "source": [
    "## The labour market\n",
    "def E6_L_S(N) :\n",
    "    \"\"\" Labour market. \"\"\"\n",
    "    return N"
   ]
  },
  {
   "cell_type": "markdown",
   "metadata": {},
   "source": [
    "#### The goods market\n",
    "In equilibria the entire domestic production is either consumed by domestic consumers or exported:\n",
    "\n",
    "$$ \n",
    "\\begin{align}\n",
    "Y = C_d + X \\tag{7}\n",
    "\\end{align}$$"
   ]
  },
  {
   "cell_type": "code",
   "execution_count": 32,
   "metadata": {},
   "outputs": [],
   "source": [
    "## The goods market\n",
    "def E7_Y(C_d,X) :\n",
    "    \"\"\" The goods market. \"\"\"\n",
    "    return C_d + X"
   ]
  },
  {
   "cell_type": "markdown",
   "metadata": {},
   "source": [
    "#### Foregin trade\n",
    "We model the foreign trade using an Armington's approach, where the export depends on the relative price of foreign and domestic goods:\n",
    "\n",
    "$$ \n",
    "\\begin{align}\n",
    "X = \\phi \\left(\\frac{p_d}{p_f}\\right)^{-E_X} \\tag{8}\n",
    "\\end{align}\n",
    "$$\n",
    "\n",
    "We use the foreign price as a numéraire:\n",
    "\n",
    "$$\n",
    "\\begin{align}\n",
    "p_f = 1 \\tag{9}\n",
    "\\end{align}\n",
    "$$"
   ]
  },
  {
   "cell_type": "code",
   "execution_count": 33,
   "metadata": {},
   "outputs": [],
   "source": [
    "## Armington's approach to foreign trade\n",
    "def E8_X(phi,p_d,p_f,E_X) :\n",
    "    \"\"\" Foreign trade \"\"\"\n",
    "    return phi*(p_d/p_f)**(-E_X)\n",
    "\n",
    "## Setting the foreign price as a numéraire\n",
    "def E9_p_f() :\n",
    "    \"\"\" The price of the foreign good \"\"\"\n",
    "    return 1"
   ]
  },
  {
   "cell_type": "markdown",
   "metadata": {},
   "source": [
    "#### The model\n",
    "Equation (1)-(9) represents the nine equations in our model. We treat the nine variables $Y$, $L$, $w$, $C_d$, $C_f$, $p_d$, $p_f$, $P_C$, and $X$ as endogenous.\n",
    "\n",
    "The remaining parameters are $N$, $\\mu$, $\\gamma_d$, $\\gamma_f$, $\\phi$, $E_Y$, $E_C$ and $E_X$."
   ]
  },
  {
   "cell_type": "markdown",
   "metadata": {},
   "source": [
    "### 2. Behavioural parameters\n",
    "The model has 8 unknown parameters: $N$, $\\mu$, $\\gamma_d$, $\\gamma_f$, $\\phi$, $E_Y$, $E_C$ and $E_X$. $\\mu$, $\\gamma_d$, $\\gamma_f$, $\\phi$, $E_Y$, $E_C$ and $E_X$ are the so-called behavioural parameters in the CES-functions and in Armington's approach to foreign trade. In the original assignment from the course in applied CGE-modelling, it was given that $E_Y \\equiv 2.0$, $E_C \\equiv 0.5$, and $E_C \\equiv 5.0$.\n",
    "\n",
    "The remaining behavioural parameters and $N$ are determined by calibrating the model to the initial equilibrium, e.g. setting $\\phi$ in equation $(8)$ such that the equation is consistent with the initial values of $X$, $p_d$, and $p_f$."
   ]
  },
  {
   "cell_type": "code",
   "execution_count": 34,
   "metadata": {},
   "outputs": [],
   "source": [
    "E_Y = 2.0\n",
    "E_C = 0.5\n",
    "E_X = 5.0"
   ]
  },
  {
   "cell_type": "markdown",
   "metadata": {},
   "source": [
    "### 3. Initial dataset and calibration\n",
    "To model is calibrated to an initial equilibrium described by the IO-table:\n",
    "\n",
    "| I/O | $PS$   | $PC$  | $X$   |\n",
    "| --- | --:  | --: | --: |\n",
    "| $PS$  | 0    | 800 | 200 |\n",
    "| $M$   | 0    | 200 |   0 |\n",
    "| $w$ | 1000 | 0   |   0 |\n",
    "\n",
    "PS is the private sector, $M$ is imports, $w$ is wages, PC is private consumption, and $X$ is exports. The rows describe input and the columns output. The private sector e.g. uses 1.000 units of wage, and outputs 800 units of goods used for domestic consumption. The table represents a simple National Account in current prices."
   ]
  },
  {
   "cell_type": "code",
   "execution_count": 35,
   "metadata": {},
   "outputs": [],
   "source": [
    "rows    = ['PS','M' ,'w']\n",
    "columns = ['PS','PC','X']\n",
    "\n",
    "data = [(0    , 800 , 200),\n",
    "        (0    , 200 ,   0) ,\n",
    "        (1000 , 0   ,   0) ]\n",
    "\n",
    "IO = pd.DataFrame(data,columns=columns,index=rows)"
   ]
  },
  {
   "cell_type": "markdown",
   "metadata": {},
   "source": [
    "#### Initialising the variables\n",
    "All prices are simply set to 1 and interpretated as price indices. The ammount of labour, the total prodcution etc. are found using the IO-table. The IO-table is in current prices so we devide by the price indices."
   ]
  },
  {
   "cell_type": "code",
   "execution_count": 36,
   "metadata": {},
   "outputs": [],
   "source": [
    "## Endogenous variables in initial equilibrium\n",
    "# Prices\n",
    "p_d0 = 1\n",
    "p_f0 = 1\n",
    "w0   = 1\n",
    "P_C0 = 1\n",
    "\n",
    "# Amounts\n",
    "L0   = IO.loc['w']['PS']/w0\n",
    "Y0   = IO.loc['w']['PS']/p_d0\n",
    "X0   = IO.loc['PS']['X']/p_d0\n",
    "C_d0 = IO.loc['PS']['PC']/p_d0\n",
    "C_f0 = IO.loc['M']['PC']/p_f0\n",
    "\n",
    "## List of initial values\n",
    "ini_list = [Y0,L0,w0,C_d0,C_f0,p_d0,p_f0,P_C0,X0]"
   ]
  },
  {
   "cell_type": "markdown",
   "metadata": {},
   "source": [
    "We also save the initial equilibrium in a dataframe."
   ]
  },
  {
   "cell_type": "code",
   "execution_count": 37,
   "metadata": {},
   "outputs": [
    {
     "data": {
      "text/html": [
       "<div>\n",
       "<style scoped>\n",
       "    .dataframe tbody tr th:only-of-type {\n",
       "        vertical-align: middle;\n",
       "    }\n",
       "\n",
       "    .dataframe tbody tr th {\n",
       "        vertical-align: top;\n",
       "    }\n",
       "\n",
       "    .dataframe thead th {\n",
       "        text-align: right;\n",
       "    }\n",
       "</style>\n",
       "<table border=\"1\" class=\"dataframe\">\n",
       "  <thead>\n",
       "    <tr style=\"text-align: right;\">\n",
       "      <th></th>\n",
       "      <th>Shock</th>\n",
       "      <th>$L$</th>\n",
       "      <th>$Y$</th>\n",
       "      <th>$X$</th>\n",
       "      <th>$C_d$</th>\n",
       "      <th>$C_f$</th>\n",
       "      <th>$w$</th>\n",
       "      <th>$p_d$</th>\n",
       "      <th>$p_f$</th>\n",
       "      <th>$P_C$</th>\n",
       "    </tr>\n",
       "  </thead>\n",
       "  <tbody>\n",
       "    <tr>\n",
       "      <th>0</th>\n",
       "      <td>Initial eq.</td>\n",
       "      <td>1000</td>\n",
       "      <td>1000.00</td>\n",
       "      <td>200.00</td>\n",
       "      <td>800.00</td>\n",
       "      <td>200.00</td>\n",
       "      <td>1.000</td>\n",
       "      <td>1.000</td>\n",
       "      <td>1.000</td>\n",
       "      <td>1.000</td>\n",
       "    </tr>\n",
       "  </tbody>\n",
       "</table>\n",
       "</div>"
      ],
      "text/plain": [
       "         Shock   $L$      $Y$     $X$   $C_d$   $C_f$    $w$  $p_d$  $p_f$  \\\n",
       "0  Initial eq.  1000  1000.00  200.00  800.00  200.00  1.000  1.000  1.000   \n",
       "\n",
       "   $P_C$  \n",
       "0  1.000  "
      ]
     },
     "execution_count": 37,
     "metadata": {},
     "output_type": "execute_result"
    }
   ],
   "source": [
    "## Saving initial equilibrium in a dictionary\n",
    "ini_eq = [{\"Shock\" : \"Initial eq.\", \n",
    "            \"$L$\"   : \"%1.f\"  % L0,\n",
    "            \"$Y$\"   : \"%0.2f\" % Y0,\n",
    "            \"$w$\"   : \"%0.3f\" % w0,\n",
    "            \"$C_d$\" : \"%0.2f\" % C_d0,\n",
    "            \"$p_d$\" : \"%0.3f\" % p_d0,\n",
    "            \"$C_f$\" : \"%0.2f\" % C_f0,\n",
    "            \"$p_f$\" : \"%0.3f\" % p_f0,\n",
    "            \"$P_C$\" : \"%0.3f\" % P_C0,\n",
    "            \"$X$\"   : \"%0.2f\" % X0}]\n",
    "\n",
    "## Converting the dictionary to a data-frame\n",
    "ini_eq = pd.DataFrame(ini_eq)\n",
    "\n",
    "## Rearranging the columns of the dataframe\n",
    "cols = ['Shock','$L$','$Y$','$X$','$C_d$','$C_f$','$w$','$p_d$','$p_f$','$P_C$']\n",
    "ini_eq = ini_eq[cols]\n",
    "\n",
    "## Printing the inital equilibrium\n",
    "ini_eq"
   ]
  },
  {
   "cell_type": "markdown",
   "metadata": {},
   "source": [
    "#### Calibrating\n",
    "The next step is to calibrate $N$, $\\mu$, $\\gamma_d$, $\\gamma_f$, $\\phi$, i.e. setting their values such that the model replicates the initial equilibrium. In the case of e.g. $\\mu$ this is done by solving the labour demand function, equation (1), for $\\mu$ with the inital values inserted:\n",
    "\n",
    "$$ \n",
    "\\begin{align}\n",
    "L_0 = \\mu  \\left( \\frac{w_0}{p_{d0}} \\right)^{-E_Y} Y_0\n",
    "\\end{align}\n",
    "$$\n",
    "\n",
    "We do this numerically below."
   ]
  },
  {
   "cell_type": "code",
   "execution_count": 38,
   "metadata": {},
   "outputs": [
    {
     "name": "stdout",
     "output_type": "stream",
     "text": [
      "N = 1000.0 , mu = 1.0 , gamma_d = 0.8 , gamma_f = 0.2 , phi = 200.0\n"
     ]
    }
   ],
   "source": [
    "## Calibrating population size\n",
    "def f_L_S(N) :\n",
    "    return E6_L_S(N) - L0\n",
    "\n",
    "solution = optimize.root(f_L_S, (0) )\n",
    "N = np.asscalar(solution.x)\n",
    "\n",
    "## Calibrating mu\n",
    "def f_mu(mu) :\n",
    "    return E1_L_D(mu,w0,p_d0,E_Y,Y0) - L0\n",
    "\n",
    "solution = optimize.root(f_mu, (0) )\n",
    "mu = np.asscalar(solution.x)\n",
    "\n",
    "## Calibrating gamma_d and gamma_f\n",
    "def f_gamma_d(gamma_d) :\n",
    "    return E4_C_d(gamma_d,p_d0,P_C0,E_C,w0,N) -C_d0\n",
    "\n",
    "solution = optimize.root(f_gamma_d, (0) )\n",
    "gamma_d = np.asscalar(solution.x)\n",
    "\n",
    "def f_gamma_f(gamma_f) :\n",
    "    return E5_C_f(gamma_f,p_f0,P_C0,E_C,w0,N) -C_f0\n",
    "\n",
    "solution = optimize.root(f_gamma_f, (0) )\n",
    "gamma_f = np.asscalar(solution.x)\n",
    "\n",
    "## Calibrating phi\n",
    "def f_phi(phi) :\n",
    "    return E8_X(phi,p_d0,p_f0,E_X) - X0\n",
    "\n",
    "solution = optimize.root(f_phi, (0) )\n",
    "phi = np.asscalar(solution.x)\n",
    "\n",
    "## Printing the results\n",
    "print(\"N =\",N,\", mu =\",mu,\",\",\"gamma_d =\",gamma_d,\",\",\"gamma_f =\",gamma_f,\",\",\"phi =\",phi)"
   ]
  },
  {
   "cell_type": "markdown",
   "metadata": {},
   "source": [
    "#### Solving the model\n",
    "The last step of building our model is to solve it and check if it replicates the initial equilibrium. If it does then our model works. This is called a zero-shock in CGE-modelling.\n",
    "\n",
    "The model is solved as a system of nine equations, equation $(1)$-$(9)$, and nine unknowns, $Y$, $L$, $w$, $C_d$, $C_f$, $p_d$, $p_f$, $P_C$, and $X$. This is done in a function called CGEsolve, which will become handy later, when we examine the properties of the model."
   ]
  },
  {
   "cell_type": "code",
   "execution_count": 39,
   "metadata": {},
   "outputs": [
    {
     "name": "stdout",
     "output_type": "stream",
     "text": [
      "The solution converged. Success = True\n"
     ]
    }
   ],
   "source": [
    "## Function solving the CGE model taking parameters as inputs\n",
    "def CGEsolve(N,mu,gamma_d,gamma_f,phi,E_Y,E_C,E_X,ini_list,status='yes') :\n",
    "    \"\"\"\n",
    "    This function defines and solves the CGE-model as a function of its parameters and\n",
    "    a list of inital values for the solver.\n",
    "    \n",
    "    status = 'yes' prints a summary of the solver results\n",
    "    \"\"\"\n",
    "    ## Defining the CGE model as a system of nine equations and nine unknowns\n",
    "    def CGEmodel(variables) :\n",
    "        ## Defining variables\n",
    "        (Y,L,w,C_d,C_f,p_d,p_f,P_C,X) = variables\n",
    "\n",
    "        ## Defining equations\n",
    "        EQ_L_D = E1_L_D(mu,w,p_d,E_Y,Y) - L\n",
    "        EQ_p_d = E2_p_d(Y,w,L) - p_d\n",
    "        EQ_wN  = E3_wN(p_d,C_d,p_f,C_f) - w*N\n",
    "        EQ_C_d = E4_C_d(gamma_d,p_d,P_C,E_C,w,N) - C_d\n",
    "        EQ_C_f = E5_C_f(gamma_f,p_f,P_C,E_C,w,N) - C_f\n",
    "        EQ_L_S = E6_L_S(N) - L\n",
    "        EQ_Y   = E7_Y(C_d,X) - Y\n",
    "        EQ_X   = E8_X(phi,p_d,p_f,E_X) - X\n",
    "        EQ_p_f = E9_p_f()-p_f\n",
    "        \n",
    "        ## Returning a list of equations\n",
    "        return [EQ_L_D,EQ_p_d,EQ_wN,EQ_C_d,EQ_C_f,EQ_L_S,EQ_Y,EQ_X,EQ_p_f]\n",
    "   \n",
    "    ## Solving the model  using the inital equilibrium as starting values fore the solver\n",
    "    solution = optimize.root(CGEmodel,(ini_list[0],ini_list[1],ini_list[2],ini_list[3],ini_list[4],ini_list[5],ini_list[6],ini_list[7],ini_list[8]))\n",
    "    \n",
    "    ## Prints the status of the solver\n",
    "    if status=='yes' :\n",
    "        print(solution.message,\"Success =\",solution.success)\n",
    "    \n",
    "    ## Returning solution\n",
    "    return solution\n",
    "\n",
    "## Solving the model\n",
    "zeroshock = CGEsolve(N,mu,gamma_d,gamma_f,phi,E_Y,E_C,E_X,ini_list,status='yes')"
   ]
  },
  {
   "cell_type": "code",
   "execution_count": 40,
   "metadata": {},
   "outputs": [
    {
     "data": {
      "text/html": [
       "<div>\n",
       "<style scoped>\n",
       "    .dataframe tbody tr th:only-of-type {\n",
       "        vertical-align: middle;\n",
       "    }\n",
       "\n",
       "    .dataframe tbody tr th {\n",
       "        vertical-align: top;\n",
       "    }\n",
       "\n",
       "    .dataframe thead th {\n",
       "        text-align: right;\n",
       "    }\n",
       "</style>\n",
       "<table border=\"1\" class=\"dataframe\">\n",
       "  <thead>\n",
       "    <tr style=\"text-align: right;\">\n",
       "      <th></th>\n",
       "      <th>Shock</th>\n",
       "      <th>$L$</th>\n",
       "      <th>$Y$</th>\n",
       "      <th>$X$</th>\n",
       "      <th>$C_d$</th>\n",
       "      <th>$C_f$</th>\n",
       "      <th>$w$</th>\n",
       "      <th>$p_d$</th>\n",
       "      <th>$p_f$</th>\n",
       "      <th>$P_C$</th>\n",
       "    </tr>\n",
       "  </thead>\n",
       "  <tbody>\n",
       "    <tr>\n",
       "      <th>0</th>\n",
       "      <td>Initial eq.</td>\n",
       "      <td>1000</td>\n",
       "      <td>1000.00</td>\n",
       "      <td>200.00</td>\n",
       "      <td>800.00</td>\n",
       "      <td>200.00</td>\n",
       "      <td>1.000</td>\n",
       "      <td>1.000</td>\n",
       "      <td>1.000</td>\n",
       "      <td>1.000</td>\n",
       "    </tr>\n",
       "    <tr>\n",
       "      <th>0</th>\n",
       "      <td>Zero-shock</td>\n",
       "      <td>1000</td>\n",
       "      <td>1000.00</td>\n",
       "      <td>200.00</td>\n",
       "      <td>800.00</td>\n",
       "      <td>200.00</td>\n",
       "      <td>1.000</td>\n",
       "      <td>1.000</td>\n",
       "      <td>1.000</td>\n",
       "      <td>1.000</td>\n",
       "    </tr>\n",
       "  </tbody>\n",
       "</table>\n",
       "</div>"
      ],
      "text/plain": [
       "         Shock   $L$      $Y$     $X$   $C_d$   $C_f$    $w$  $p_d$  $p_f$  \\\n",
       "0  Initial eq.  1000  1000.00  200.00  800.00  200.00  1.000  1.000  1.000   \n",
       "0   Zero-shock  1000  1000.00  200.00  800.00  200.00  1.000  1.000  1.000   \n",
       "\n",
       "   $P_C$  \n",
       "0  1.000  \n",
       "0  1.000  "
      ]
     },
     "execution_count": 40,
     "metadata": {},
     "output_type": "execute_result"
    }
   ],
   "source": [
    "## Function creating a dataframe with results\n",
    "def CGEresults(solution,name,nice='yes') :\n",
    "    \"\"\"\n",
    "    This function takes the results from CGEsolve function and stores the variable values in a data frame.\n",
    "    \n",
    "    solution = a result from the CGEsolve function\n",
    "    name = name of the shock\n",
    "    nice = yes if results are for printing in a table.\n",
    "    \"\"\"\n",
    "    ## Saving the results in a dictionary - strings for presenting results\n",
    "    if nice == 'yes' :\n",
    "        results = [{\"Shock\" : name, \n",
    "                \"$Y$\"   : \"%0.2f\" % solution.x[0],\n",
    "                \"$L$\"   : \"%1.f\"  % solution.x[1],\n",
    "                \"$w$\"   : \"%0.3f\" % solution.x[2],\n",
    "                \"$C_d$\" : \"%0.2f\" % solution.x[3],\n",
    "                \"$p_d$\" : \"%0.3f\" % solution.x[5],\n",
    "                \"$C_f$\" : \"%0.2f\" % solution.x[4],\n",
    "                \"$p_f$\" : \"%0.3f\" % solution.x[6],\n",
    "                \"$P_C$\" : \"%0.3f\" % solution.x[7],\n",
    "                \"$X$\"   : \"%0.2f\" % solution.x[8]}]\n",
    "    ## floats for figures \n",
    "    else :\n",
    "        results = [{\"Shock\" : name, \n",
    "                \"$Y$\"   : solution.x[0],\n",
    "                \"$L$\"   : solution.x[1],\n",
    "                \"$w$\"   : solution.x[2],\n",
    "                \"$C_d$\" : solution.x[3],\n",
    "                \"$p_d$\" : solution.x[5],\n",
    "                \"$C_f$\" : solution.x[4],\n",
    "                \"$p_f$\" : solution.x[6],\n",
    "                \"$P_C$\" : solution.x[7],\n",
    "                \"$X$\"   : solution.x[8]}]\n",
    "    ## Converting the results to a dataframe\n",
    "    results = pd.DataFrame(results)\n",
    "    \n",
    "    ## Rearranging the columns\n",
    "    cols = ['Shock','$L$','$Y$','$X$','$C_d$','$C_f$','$w$','$p_d$','$p_f$','$P_C$']\n",
    "    results = results[cols]\n",
    "    \n",
    "    ## Returning the dataframe\n",
    "    return results\n",
    "\n",
    "## Printing the results\n",
    "ini_eq.append(CGEresults(zeroshock,'Zero-shock',nice='yes'))"
   ]
  },
  {
   "cell_type": "markdown",
   "metadata": {},
   "source": [
    "We have successfully solved the model. Our 'zero'-shock replicates the intial equilibrium. The model is correctly calibrated."
   ]
  },
  {
   "cell_type": "markdown",
   "metadata": {},
   "source": [
    "## The effects of a productivity shock and the price sensitivity of exports\n",
    "In this section we examine how a 10 percent increase in productivity affects our model. The shok is implemented by increasing $\\mu$ by 10 percent."
   ]
  },
  {
   "cell_type": "code",
   "execution_count": 41,
   "metadata": {},
   "outputs": [
    {
     "name": "stdout",
     "output_type": "stream",
     "text": [
      "The solution converged. Success = True\n"
     ]
    }
   ],
   "source": [
    "prodshock = CGEsolve(N,1.1*mu,gamma_d,gamma_f,phi,E_Y,E_C,E_X,ini_list,status='yes')"
   ]
  },
  {
   "cell_type": "code",
   "execution_count": 42,
   "metadata": {},
   "outputs": [
    {
     "data": {
      "text/html": [
       "<div>\n",
       "<style scoped>\n",
       "    .dataframe tbody tr th:only-of-type {\n",
       "        vertical-align: middle;\n",
       "    }\n",
       "\n",
       "    .dataframe tbody tr th {\n",
       "        vertical-align: top;\n",
       "    }\n",
       "\n",
       "    .dataframe thead th {\n",
       "        text-align: right;\n",
       "    }\n",
       "</style>\n",
       "<table border=\"1\" class=\"dataframe\">\n",
       "  <thead>\n",
       "    <tr style=\"text-align: right;\">\n",
       "      <th></th>\n",
       "      <th>Shock</th>\n",
       "      <th>$L$</th>\n",
       "      <th>$Y$</th>\n",
       "      <th>$X$</th>\n",
       "      <th>$C_d$</th>\n",
       "      <th>$C_f$</th>\n",
       "      <th>$w$</th>\n",
       "      <th>$p_d$</th>\n",
       "      <th>$p_f$</th>\n",
       "      <th>$P_C$</th>\n",
       "    </tr>\n",
       "  </thead>\n",
       "  <tbody>\n",
       "    <tr>\n",
       "      <th>0</th>\n",
       "      <td>Initial eq.</td>\n",
       "      <td>1000</td>\n",
       "      <td>1000.00</td>\n",
       "      <td>200.00</td>\n",
       "      <td>800.00</td>\n",
       "      <td>200.00</td>\n",
       "      <td>1.000</td>\n",
       "      <td>1.000</td>\n",
       "      <td>1.000</td>\n",
       "      <td>1.000</td>\n",
       "    </tr>\n",
       "    <tr>\n",
       "      <th>0</th>\n",
       "      <td>Prod-shock</td>\n",
       "      <td>1000</td>\n",
       "      <td>1100.00</td>\n",
       "      <td>221.83</td>\n",
       "      <td>878.17</td>\n",
       "      <td>217.28</td>\n",
       "      <td>1.077</td>\n",
       "      <td>0.979</td>\n",
       "      <td>1.000</td>\n",
       "      <td>0.984</td>\n",
       "    </tr>\n",
       "  </tbody>\n",
       "</table>\n",
       "</div>"
      ],
      "text/plain": [
       "         Shock   $L$      $Y$     $X$   $C_d$   $C_f$    $w$  $p_d$  $p_f$  \\\n",
       "0  Initial eq.  1000  1000.00  200.00  800.00  200.00  1.000  1.000  1.000   \n",
       "0   Prod-shock  1000  1100.00  221.83  878.17  217.28  1.077  0.979  1.000   \n",
       "\n",
       "   $P_C$  \n",
       "0  1.000  \n",
       "0  0.984  "
      ]
     },
     "execution_count": 42,
     "metadata": {},
     "output_type": "execute_result"
    }
   ],
   "source": [
    "ini_eq.append(CGEresults(prodshock,'Prod-shock',nice='yes'))"
   ]
  },
  {
   "cell_type": "markdown",
   "metadata": {},
   "source": [
    "The shock went as expected. A 10 percent increase in the productivity of the only input in a CES-function with constant returns to scale equals a 10 percent increase in domestic production. An increase in production also increases the export, as a larger supply lowers the price of the domestic good and thus increases exports. Also, a higher productivity leads to higher wages and thus higher consumption of both domestic and foregin goods. \n",
    "\n",
    "But how does the effect of the shock depend on $E_X$ in equation (8)? An inelastic (low values of $E_X$) foregin demand for domestic goods imply lower prices for domestic goods in order to get the market for domestic goods to clear. To see how dominant this effect is, we solve the model for a range of $E_X$'s. "
   ]
  },
  {
   "cell_type": "code",
   "execution_count": 43,
   "metadata": {},
   "outputs": [
    {
     "name": "stdout",
     "output_type": "stream",
     "text": [
      "The solution converged. Success = True\n"
     ]
    }
   ],
   "source": [
    "## Solving the models for E_X=2\n",
    "shock = CGEsolve(N,1.1*mu,gamma_d,gamma_f,phi,E_Y,E_C,2,ini_list,status='yes')\n",
    "results = CGEresults(shock,2,nice = 'no')"
   ]
  },
  {
   "cell_type": "code",
   "execution_count": 44,
   "metadata": {},
   "outputs": [],
   "source": [
    "## Solving the model for E_X=2-30 - [we don't print the status of the solver, but we have checked. \n",
    "##                                   The solver behaves nicely for all values of E_X]\n",
    "for i in range(21,301) :\n",
    "    #print(0.1*i)\n",
    "    shock = CGEsolve(N,1.1*mu,gamma_d,gamma_f,phi,E_Y,E_C,0.1*i,ini_list,status='no')\n",
    "    results = results.append(CGEresults(shock,0.1*i,nice='no'))"
   ]
  },
  {
   "cell_type": "markdown",
   "metadata": {},
   "source": [
    "We present the results in an interactive figure."
   ]
  },
  {
   "cell_type": "code",
   "execution_count": 45,
   "metadata": {},
   "outputs": [
    {
     "data": {
      "application/vnd.jupyter.widget-view+json": {
       "model_id": "669a2bbbf0464b50b70b7b37709f7cac",
       "version_major": 2,
       "version_minor": 0
      },
      "text/plain": [
       "interactive(children=(Dropdown(description='Variables', options=('$L$', '$Y$', '$X$', '$C_d$', '$C_f$', '$w$',…"
      ]
     },
     "metadata": {},
     "output_type": "display_data"
    },
    {
     "data": {
      "text/plain": [
       "<function __main__.fig_plt(var)>"
      ]
     },
     "execution_count": 45,
     "metadata": {},
     "output_type": "execute_result"
    }
   ],
   "source": [
    "varbls = ['$L$','$Y$','$X$','$C_d$','$C_f$','$w$','$p_d$','$p_f$','$P_C$']\n",
    "\n",
    "def fig_plt(var) :\n",
    "    y = results[var].values\n",
    "    x = results['Shock'].values\n",
    "    plt.plot(x,y)\n",
    "    plt.yticks(np.arange(0.95*y.min(), 1.05*y.max(), (1.05*y.max()-0.95*y.min())/4))\n",
    "    return plt.show()\n",
    "\n",
    "var_select = wd.Dropdown(options=varbls, description='Variables')\n",
    "wd.interact(fig_plt,var=var_select)"
   ]
  },
  {
   "cell_type": "markdown",
   "metadata": {},
   "source": [
    "The most interesting figures are those of $X$ and $p_d$. It shows that an inelastic foregin demand implies, that the domestic producers have to lower their prices by a lot to clear the goods market. The lower prices affects the wages and thus the consumption of both foregin and domestic goods in equilibria with different $E_X$."
   ]
  }
 ],
 "metadata": {
  "kernelspec": {
   "display_name": "Python 3",
   "language": "python",
   "name": "python3"
  },
  "language_info": {
   "codemirror_mode": {
    "name": "ipython",
    "version": 3
   },
   "file_extension": ".py",
   "mimetype": "text/x-python",
   "name": "python",
   "nbconvert_exporter": "python",
   "pygments_lexer": "ipython3",
   "version": "3.7.1"
  }
 },
 "nbformat": 4,
 "nbformat_minor": 2
}
