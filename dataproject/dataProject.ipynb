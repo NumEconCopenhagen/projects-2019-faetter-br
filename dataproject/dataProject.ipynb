{
 "cells": [
  {
   "cell_type": "code",
   "execution_count": 1,
   "metadata": {},
   "outputs": [],
   "source": [
    "get_ipython().run_line_magic('load_ext', 'autoreload')\n",
    "get_ipython().run_line_magic('autoreload', '2')\n",
    "import requests        # Needed to download the data from Statistics Denmark's API\n",
    "import io              # Also needed to download the data from Statistics Denmark's API\n",
    "import pandas as pd    # Pandas - because everybody loves pandas\n",
    "import matplotlib.pyplot as plt #For plotting stuff\n",
    "import numpy as np #Maybe we need to do some math"
   ]
  },
  {
   "cell_type": "markdown",
   "metadata": {},
   "source": [
    "# DATA:"
   ]
  },
  {
   "cell_type": "markdown",
   "metadata": {},
   "source": [
    "## Import data from statistics Denmark - population forecast and employment statistics"
   ]
  },
  {
   "cell_type": "code",
   "execution_count": 2,
   "metadata": {},
   "outputs": [],
   "source": [
    "#Imports employment data directly from DST\n",
    "RAS200 = requests.get('https://api.statbank.dk/v1/data/RAS200/CSV?valuePresentation=Value&delimiter=Semicolon&BEREGNING=*&TID=*&ALDER=16-17%2C18-19%2C20-24%2C25-29%2C30-34%2C35-39%2C40-44%2C45-49%2C50-54%2C55-59%2C60-64&HERKOMST=10%2C24%2C25%2C34%2C35&K%C3%98N=M%2CK&OMR%C3%85DE=000').content\n",
    "RAS200 = pd.read_csv(io.StringIO(RAS200.decode('utf-8')),decimal=\",\",sep=\";\")\n",
    "RAS200.loc[:,\"INDHOLD\"].astype(float) #converts frequencies to floats from strings\n",
    "\n",
    "#Imports historical population data directly from DST\n",
    "GAMbf = requests.get('https://api.statbank.dk/v1/data/FOLK1E/CSV?delimiter=Semicolon&K%C3%98N=1%2C2&Tid=*&Herkomst=1%2C24%2C25%2C34%2C35&ALDER=*').content\n",
    "GAMbf = pd.read_csv(io.StringIO(GAMbf.decode('utf-8')),decimal=\",\",sep=\";\")\n",
    "\n",
    "\n",
    "#Imports population forecast data directly from DST\n",
    "FREMbf = requests.get('https://api.statbank.dk/v1/data/FRDK118/CSV?HERKOMST=*&K%C3%98N=*&ALDER=*&Tid=*').content\n",
    "FREMbf = pd.read_csv(io.StringIO(FREMbf.decode('utf-8')),decimal=\",\",sep=\";\")\n"
   ]
  },
  {
   "cell_type": "markdown",
   "metadata": {},
   "source": [
    "### Data cleaning\n",
    "The aim here is to create two concise dataframes from the two population datasets.\n",
    "Here we start by managing the historical populaiton"
   ]
  },
  {
   "cell_type": "code",
   "execution_count": 3,
   "metadata": {},
   "outputs": [],
   "source": [
    "GAMbf = GAMbf.loc[GAMbf.TID.str[-1]=='1'] #Data is in quaters - we use the first quarter each year \n",
    "GAMbf.TID = GAMbf.TID.str[0:4] #creates a list of year without quarter indicator at the end (2008k1 -> 2008)\n",
    "GAMbf.TID = GAMbf.TID.astype(int) #turns year-index into an integer\n",
    "GAMbf = GAMbf[GAMbf.ALDER !='I alt'] #drops observations containing the sum across ages.\n",
    "GAMbf.loc[GAMbf.HERKOMST==\"Personer med dansk oprindelse\", 'HERKOMST'] = 'da'\n",
    "GAMbf.loc[GAMbf.HERKOMST==\"Indvandrere fra vestlige lande\", 'HERKOMST'] = 'iw'\n",
    "GAMbf.loc[GAMbf.HERKOMST==\"Indvandrere fra ikke-vestlige lande\", 'HERKOMST'] = 'ix'\n",
    "GAMbf.loc[GAMbf.HERKOMST==\"Efterkommere fra vestlige lande\", 'HERKOMST'] = 'dw'\n",
    "GAMbf.loc[GAMbf.HERKOMST==\"Efterkommere fra ikke-vestlige lande\", 'HERKOMST'] = 'dx'\n",
    "GAMbf.loc[GAMbf.KØN==\"Mænd\", 'KØN'] = 'M'\n",
    "GAMbf.loc[GAMbf.KØN==\"Kvinder\", 'KØN'] = 'K'\n",
    "GAMbf.rename(columns = {'KØN':'gender', 'TID':'year','HERKOMST':'origin','ALDER':'age', 'INDHOLD':'pop'}, inplace = True)\n",
    "GAMbf[\"age\"] = GAMbf[\"age\"].astype(str).str.split(\" \", 1, expand=True) #picks up the integer part(before first space) of the age variable.\n",
    "GAMbf[\"age\"] = GAMbf[\"age\"].astype(int)\n",
    "GAMbf.pop = GAMbf.loc[:,\"pop\"].astype(float) #converts frequencies to floats from strings"
   ]
  },
  {
   "cell_type": "markdown",
   "metadata": {},
   "source": [
    "Same is done for forecast data"
   ]
  },
  {
   "cell_type": "code",
   "execution_count": 4,
   "metadata": {},
   "outputs": [],
   "source": [
    "FREMbf.loc[FREMbf.HERKOMST==\"Personer med dansk oprindelse\", 'HERKOMST'] = 'da'\n",
    "FREMbf.loc[FREMbf.HERKOMST==\"Indvandrere fra vestlige lande\", 'HERKOMST'] = 'IW'\n",
    "FREMbf.loc[FREMbf.HERKOMST==\"Indvandrere fra ikke-vestlige lande\", 'HERKOMST'] = 'IX'\n",
    "FREMbf.loc[FREMbf.HERKOMST==\"Efterkommere fra vestlige lande\", 'HERKOMST'] = 'dw'\n",
    "FREMbf.loc[FREMbf.HERKOMST==\"Efterkommere fra ikke-vestlige lande\", 'HERKOMST'] = 'dx'\n",
    "FREMbf.loc[FREMbf.KØN==\"Mænd\", 'KØN'] = 'M'\n",
    "FREMbf.loc[FREMbf.KØN==\"Kvinder\", 'KØN'] = 'K'\n",
    "FREMbf.rename(columns = {'KØN':'gender', 'TID':'year','HERKOMST':'origin', 'ALDER':'age', 'INDHOLD':'pop'}, inplace = True)\n",
    "FREMbf[\"age\"] = FREMbf[\"age\"].astype(str).str.split(\" \", 1, expand=True) #picks up the integer part(before first space) of the age variable.\n",
    "FREMbf[\"age\"] = FREMbf[\"age\"].astype(int)\n",
    "FREMbf.pop = FREMbf.loc[:,\"pop\"].astype(float) #converts frequencies to floats from strings"
   ]
  },
  {
   "cell_type": "markdown",
   "metadata": {},
   "source": [
    "We want to do similar steps to our employment rate dataset (RAS200). This will ease calculations of multiplying the correct indexes across dataframes"
   ]
  },
  {
   "cell_type": "code",
   "execution_count": 5,
   "metadata": {},
   "outputs": [],
   "source": [
    "RAS200.loc[RAS200.HERKOMST==\"Personer med dansk oprindelse\", 'HERKOMST'] = 'da'\n",
    "RAS200.loc[RAS200.HERKOMST==\"Indvandrere fra vestlige lande\", 'HERKOMST'] = 'iw'\n",
    "RAS200.loc[RAS200.HERKOMST==\"Indvandrere fra ikke-vestlige lande\", 'HERKOMST'] = 'ix'\n",
    "RAS200.loc[RAS200.HERKOMST==\"Efterkommere fra ikke-vestlige lande\", 'HERKOMST'] = 'dx'\n",
    "RAS200.loc[RAS200.KØN==\"Kvinder\", 'KØN'] = 'K'\n",
    "RAS200.loc[RAS200.HERKOMST==\"Efterkommere fra vestlige lande\", 'HERKOMST'] = 'dw'\n",
    "RAS200.loc[RAS200.KØN==\"Mænd\", 'KØN'] = 'M'\n",
    "RAS200.loc[RAS200.BEREGNING==\"Beskæftigelsesfrekvens\", 'BEREGNING'] = 'besk'\n",
    "RAS200.loc[RAS200.BEREGNING==\"Erhvervsfrekvens\", 'BEREGNING'] = 'uab'\n",
    "RAS200 = RAS200.drop(columns = ['OMRÅDE'])\n",
    "RAS200.rename(columns = {'KØN':'gender', 'TID':'year','HERKOMST':'origin', 'ALDER':'age', 'INDHOLD':'frequency', \"BEREGNING\":'activ'}, inplace = True)\n"
   ]
  },
  {
   "cell_type": "markdown",
   "metadata": {},
   "source": [
    "### Expand employment rates from age intervals\n",
    "Employment rates are defined across age groups with different intervals, containing 2 or 5 ages within each interval. We want to create a dataframe, that turns the intervals into singular age categories. Each of these new observations should keep the index and employment rate of the entire age group. This implies that certain ages will have the exact same employment rates.\n",
    "\n",
    "This loop can take a few minutes(running the loop in jupyter takes forever)"
   ]
  },
  {
   "cell_type": "code",
   "execution_count": 6,
   "metadata": {},
   "outputs": [],
   "source": [
    "freq_temp = RAS200 #Creates a tempoary frequency container - ensures that we do not alter original data\n",
    "alder = freq_temp[\"age\"].astype(str).str.split(\"-\", expand=True) #Splits \"ALDER\" (example: 16-17 år) collumn into two collumns by thedelimiter \"-\".\n",
    "alder[1] = alder[1].astype(str).str.split(\" \", expand=True) #The second created collumn has \"år\" in the end of the string - we only keep the integer part by keeping the string priror to the delimiter \" \".\n",
    "\n",
    "alder = alder.astype(float) #converts strings to floats (could also be integer)\n",
    "\n",
    "freqalder =  pd.DataFrame() #creates a container for the interval of ages - used for loop later to create a collumn of ages from 16 to 64. \n",
    "for i,j in zip(alder.iloc[:,1], alder.iloc[:,0]):\n",
    "    app = pd.Series(i-j)\n",
    "    freqalder = freqalder.append(app, ignore_index=True)\n",
    "\n",
    "freq =  pd.DataFrame() #container for final data on employmentrates\n",
    "age_temp = pd.DataFrame() #temporary container to create a list of ages \n",
    "p=0\n",
    "for i in freqalder.iloc[:,0]: #We want to iterate as long as we have age groups\n",
    "    if i ==1: #if the age group contains two ages (i=17-16 ==1 )\n",
    "        freq = freq.append(RAS200.iloc[p,:]) #copies RAS-data so, for instance, age 16 and 17 have the same gender, origin and frequency as the age group 16-17\n",
    "        freq = freq.append(RAS200.iloc[p,:]) #We do the same for the next age in the interval \n",
    "        age_temp = age_temp.append(pd.Series(alder.iloc[p,0]), ignore_index=True) #sets the age_temp equal to the first age of the interval\n",
    "        age_temp = age_temp.append(pd.Series(alder.iloc[p,0]+1), ignore_index=True) #Adds 1 to the first age of the interval\n",
    "        p=p+1\n",
    "    else: #If the interval contains 5 ages\n",
    "        freq = freq.append(RAS200.iloc[p,:])\n",
    "        freq = freq.append(RAS200.iloc[p,:])\n",
    "        freq = freq.append(RAS200.iloc[p,:])\n",
    "        freq = freq.append(RAS200.iloc[p,:])\n",
    "        freq = freq.append(RAS200.iloc[p,:])\n",
    "        age_temp = age_temp.append(pd.Series(alder.iloc[p,0]), ignore_index=True)\n",
    "        age_temp = age_temp.append(pd.Series(alder.iloc[p,0]+1), ignore_index=True)\n",
    "        age_temp = age_temp.append(pd.Series(alder.iloc[p,0]+2), ignore_index=True)\n",
    "        age_temp = age_temp.append(pd.Series(alder.iloc[p,0]+3), ignore_index=True)\n",
    "        age_temp = age_temp.append(pd.Series(alder.iloc[p,0]+4), ignore_index=True)\n",
    "        p=p+1 \n",
    "freq.index = range(len(freq)) #Append keeps the old index - We want to concatenate using a different index.\n",
    "freq = freq.drop(columns = ['age']) #we do not need the old age group anymore\n",
    "age_temp.rename(columns = {0:\"age\"}, inplace=True) #rename the collum to \"age\" \n",
    "freq = pd.concat([freq, age_temp], axis=1) #combining data with the new age list."
   ]
  },
  {
   "cell_type": "markdown",
   "metadata": {},
   "source": [
    "# Forecasting \n"
   ]
  },
  {
   "cell_type": "code",
   "execution_count": null,
   "metadata": {},
   "outputs": [],
   "source": [
    "#First: we do not need population data for ages below 16 - child labour is forbidden. We do not have frequencies for ages above 64 - population is discarded\n",
    "GAMbf1664 = GAMbf[(GAMbf.age>=16) &(GAMbf.age<=64)]\n",
    "freq_besk = freq[freq['activ']=='besk']\n",
    "freq_uab = freq[freq['activ']=='uab']\n",
    "freq_besk = freq_besk.sort_values(by=['year','age', 'origin', 'gender'])\n",
    "freq_uab = freq_uab.sort_values(by=['year','age', 'origin', 'gender'])\n",
    "GAMbf1664 = GAMbf1664.sort_values(by=['year','age', 'origin', 'gender'])"
   ]
  }
 ],
 "metadata": {
  "kernelspec": {
   "display_name": "Python 3",
   "language": "python",
   "name": "python3"
  },
  "language_info": {
   "codemirror_mode": {
    "name": "ipython",
    "version": 3
   },
   "file_extension": ".py",
   "mimetype": "text/x-python",
   "name": "python",
   "nbconvert_exporter": "python",
   "pygments_lexer": "ipython3",
   "version": "3.7.1"
  },
  "toc-autonumbering": true
 },
 "nbformat": 4,
 "nbformat_minor": 2
}
