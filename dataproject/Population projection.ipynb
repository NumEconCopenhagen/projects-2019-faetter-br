{
 "cells": [
  {
   "cell_type": "markdown",
   "metadata": {},
   "source": [
    "# A socio-economic projection\n",
    "This code produces a projection of the Danish population divided into socio-economic groups to 2060 using the Register-based Labour Force Statistics (RAS) and the population projection from Statistics Denmark. The code is structured in three main elements:\n",
    "\n",
    "1. Packages\n",
    "2. Data\n",
    "3. Projection\n",
    "\n",
    "The principle behind the projection is that the number of people in a given socio-economic group $a$ at time $t$ is found by multiplying the population at time $t$ with the share of people in the given socio-economic group in a base-year $\\bar{t}$:\n",
    "\n",
    "$$ a(i,s,t) = freq(i,s,\\bar{t}) \\cdot pop(i,t) $$\n",
    "\n",
    "$a(i,s,t)$ denotes the number of persons in the demographic group $i$ at time $t$, who are in the socio-economic group $s$. $freq(i,s,\\bar{t})$ is the freqency of the socio-economic group $s$ in the demographic group $i$ in a given base year $\\bar{t}$. $pop(i,t)$ is the population in the dempgraphic group $i$ at time $t$.\n",
    "\n",
    "We construct $freq(i,s,\\bar{t})$ and $pop(i,t)$ in the data section using the population projection and RAS from Statistics Denmark. In the projection section of the code we find $a(i,s,t)$, define a \"contributer-fraction\", and show how the Danish economy wil develop if behavior in 2017 (RAS) is projected into the future using the population projection."
   ]
  },
  {
   "cell_type": "markdown",
   "metadata": {},
   "source": [
    "## Packages\n",
    "We'll need some packages to do some dirty work for us."
   ]
  },
  {
   "cell_type": "code",
   "execution_count": 2,
   "metadata": {},
   "outputs": [],
   "source": [
    "import requests                 # Needed to download data from Statistics Denmark's API\n",
    "import io                       # Also needed to download data from Statistics Denmark's API\n",
    "import pandas            as pd  # Pandas - because everybody loves pandas\n",
    "import numpy             as np  # Numpy  - just because\n",
    "import matplotlib.pyplot as plt # To draw graphs 'n' stuff\n",
    "import ipywidgets        as wd  # To draw interactive graphs 'n' stuff"
   ]
  },
  {
   "cell_type": "markdown",
   "metadata": {},
   "source": [
    "## Data\n",
    "Now we are ready to stream some data! We'll need the tables RAS205, FOLK2 and FRDK118. FOLK2 is the historic population. It is included to put our results into a historic perspectiv."
   ]
  },
  {
   "cell_type": "code",
   "execution_count": 3,
   "metadata": {},
   "outputs": [],
   "source": [
    "## Calling Statistics Denmark's API and retrieving the RAS205 table as a CSV-file\n",
    "url_RAS = 'https://api.statbank.dk/v1/data/RAS205/CSV?valuePresentation=Code&delimiter=Semicolon&OPRINDLAND=30%2C32%2C34%2C36%2C38&SOCIO=*&ALDER=*&K%C3%98N=*&TID=*'\n",
    "RAS = requests.get(url_RAS).content\n",
    "RAS = pd.read_csv(io.StringIO(RAS.decode('utf-8')),sep=\";\")\n",
    "\n",
    "## Calling Statistics Denmarks's API and retrieving the FOLK2 table as a CSV-file\n",
    "url_FOLK = 'https://api.statbank.dk/v1/data/FOLK2/CSV?valuePresentation=Code&delimiter=Semicolon&ALDER=*&K%C3%98N=*&HERKOMST=*&IELAND=*&Tid=2008%2C2009%2C2010%2C2011%2C2012%2C2013%2C2014%2C2015%2C2016%2C2017'\n",
    "FOLK = requests.get(url_FOLK).content\n",
    "FOLK = pd.read_csv(io.StringIO(FOLK.decode('utf-8')),sep=\";\")\n",
    "\n",
    "## Calling Statistics Denmarks's API and retrieving the FRDK118 table as a CSV-file\n",
    "url_FRDK = 'https://api.statbank.dk/v1/data/FRDK118/CSV?valuePresentation=Code&delimiter=Semicolon&HERKOMST=*&K%C3%98N=*&ALDER=*&Tid=*'\n",
    "FRDK = requests.get(url_FRDK).content\n",
    "FRDK = pd.read_csv(io.StringIO(FRDK.decode('utf-8')),sep=\";\")"
   ]
  },
  {
   "cell_type": "markdown",
   "metadata": {},
   "source": [
    "The next step is to define some variables, which we can use for our projections! We are going to construct the following variables:\n",
    "\n",
    "* year\n",
    "* gender\n",
    "* age\n",
    "* origin - danish, immigrant, or descendant\n",
    "* activ (socio-economic groups)\n",
    "* freq (frequencies)\n",
    "* pop (population)"
   ]
  },
  {
   "cell_type": "markdown",
   "metadata": {},
   "source": [
    "### The Register-based Labour Force Statistics (RAS)\n",
    "We construct our $freq(i,s,\\bar{t})$ using RAS. The final RAS-dataset contains:\n",
    "* year\n",
    "* gender\n",
    "* age\n",
    "* origin - danish, immigrant, or descendant\n",
    "* activ (socio-economic groups)\n",
    "* freq (frequencies)"
   ]
  },
  {
   "cell_type": "code",
   "execution_count": 4,
   "metadata": {},
   "outputs": [],
   "source": [
    "## Renaming the columns\n",
    "RAS.rename(columns = {'OPRINDLAND':'origin','SOCIO':'activ','ALDER':'age','KØN':'gender','TID':'year','INDHOLD':'pop'}, inplace = True)\n",
    "\n",
    "## Year - years are integers\n",
    "RAS['year'] = RAS['year'].astype(int)\n",
    "\n",
    "## Gender - a character - m=male, and f=female\n",
    "RAS.loc[RAS.gender==\"M\", 'gender'] = 'm'\n",
    "RAS.loc[RAS.gender==\"K\", 'gender'] = 'f'\n",
    "\n",
    "## Age - we'll do some magic later\n",
    "\n",
    "## Origin - a character\n",
    "RAS[\"origin\"] = RAS[\"origin\"].astype(str)\n",
    "RAS.loc[RAS.origin==\"30\", 'origin'] = 'da' # da = danish\n",
    "RAS.loc[RAS.origin==\"32\", 'origin'] = 'dw' # dw = descendant from a western country\n",
    "RAS.loc[RAS.origin==\"34\", 'origin'] = 'dx' # dx = descendant from a non-western country\n",
    "RAS.loc[RAS.origin==\"36\", 'origin'] = 'iw' # iw = immigrant from a western country\n",
    "RAS.loc[RAS.origin==\"38\", 'origin'] = 'ix' # ix = immigrant from a non-western country\n",
    "\n",
    "## Activ - the socio-economic group\n",
    "\n",
    "# Subsetting the dataframe into two - one with total population RAS_tot\n",
    "RAS_tot = RAS.loc[RAS.activ == \"TOT\"]\n",
    "RAS_tot = RAS_tot.drop(columns = ['activ'])\n",
    "\n",
    "# and one with all activ-groups\n",
    "RAS = RAS.loc[RAS.activ != \"TOT\"]\n",
    "RAS.rename(columns = {'pop':'n'}, inplace = True)\n",
    "\n",
    "# renaming activ-groups\n",
    "RAS['activ'] = RAS['activ'].astype(int)\n",
    "RAS['activ2'] = \"NA\" \n",
    "RAS.loc[(RAS.activ >= 5)   &  (RAS.activ <= 40) ,'activ2'] = \"emp\"  # emp  = employed\n",
    "RAS.loc[(RAS.activ == 50)                       ,'activ2'] = \"uemp\" # uemp = unemployed\n",
    "RAS.loc[(RAS.activ >= 80)  & (RAS.activ <= 128) ,'activ2'] = \"oulb\" # oulb = outside labour force on public income\n",
    "RAS.loc[(RAS.activ == 130) | (RAS.activ == 154) | (RAS.activ == 156) | (RAS.activ == 158) | (RAS.activ == 160),'activ2'] = \"educ\" # educ = in education\n",
    "RAS.loc[(RAS.activ == 135) | (RAS.activ == 140) | (RAS.activ == 145) | (RAS.activ == 150) | (RAS.activ == 155),'activ2'] = \"pens\" # pens = pensioner (including early retirement schemes)\n",
    "RAS.loc[(RAS.activ == 170)                      ,'activ2'] = \"chld\" # chld = child\n",
    "RAS.loc[(RAS.activ == 175)                      ,'activ2'] = \"othr\" # othr = others\n",
    "\n",
    "RAS['activ'] = RAS['activ2']\n",
    "RAS = RAS.drop(columns = ['activ2'])\n",
    "\n",
    "# Aggregating over activ-groups\n",
    "RAS = RAS.groupby(['year','gender','age','origin','activ'],as_index=False).sum()\n",
    "\n",
    "## Freq - the share of a group defined by year, gender, age, and origin in an activ-group\n",
    "RAS = pd.merge(RAS,RAS_tot,on=['year','gender','age','origin'])\n",
    "RAS['freq'] = RAS['n'] / RAS['pop']\n",
    "RAS = RAS.drop(columns = ['n','pop'])\n",
    "\n",
    "## Some magic regarding age\n",
    "# Splitting the age-interval-string into a minimum age and maximum age in the interval\n",
    "RAS[['min_age','max_age']] = RAS['age'].str.split(\"-\",n=1,expand=True)\n",
    "RAS.loc[RAS.min_age == \"\",'min_age'] = \"0\"  \n",
    "RAS.loc[RAS.max_age == \"\",'max_age'] = \"125\" \n",
    "\n",
    "# Calculating the number of years in the age interval\n",
    "RAS['min_age'] = RAS['min_age'].astype(int)\n",
    "RAS['max_age'] = RAS['max_age'].astype(int)\n",
    "RAS['expand'] = RAS['max_age'] - RAS['min_age'] + 1\n",
    "\n",
    "# Creating a row per year in the interval\n",
    "RAS = RAS.loc[np.repeat(RAS.index.values, RAS.expand)]\n",
    "\n",
    "#Counting the rows and creating af new age variable equal to the age variable in the population projection\n",
    "RAS['seq'] = RAS.groupby(['year','gender','age','origin','activ']).cumcount()\n",
    "RAS['seq'] = RAS['min_age']+RAS['seq']\n",
    "RAS = RAS.drop(columns = ['age','expand','min_age','max_age'])\n",
    "RAS.rename(columns = {'seq':'age'}, inplace = True)\n",
    "\n",
    "## You are a child if you are under 17 - we do not condone child labour in our projections\n",
    "RAS.loc[(RAS.age < 17) & (RAS.activ == \"chld\"),'freq'] = 1\n",
    "RAS.loc[(RAS.age < 17) & (RAS.activ != \"chld\"),'freq'] = 0\n",
    "\n",
    "## Rearranging the columns\n",
    "cols = ['year','gender','age','origin','activ','freq']\n",
    "RAS = RAS[cols]"
   ]
  },
  {
   "cell_type": "markdown",
   "metadata": {},
   "source": [
    "### The historic population (FOLK)\n",
    "We construct our $pop(i,s,\\bar{t})$ in the historic years using FOLK. The final FOLK-dataset contains:\n",
    "* year\n",
    "* gender\n",
    "* age\n",
    "* origin - danish, immigrant, or descendant\n",
    "* activ (socio-economic groups)\n",
    "* pop (historic population)"
   ]
  },
  {
   "cell_type": "code",
   "execution_count": 5,
   "metadata": {},
   "outputs": [],
   "source": [
    "## Renaming the columns\n",
    "FOLK.rename(columns = {'HERKOMST':'origin','ALDER':'age','KØN':'gender','TID':'year','INDHOLD':'pop'}, inplace = True)\n",
    "\n",
    "## Year - already an integer\n",
    "\n",
    "## Gender - a character - m=male, and f=female\n",
    "FOLK.loc[FOLK.gender==\"M\", 'gender'] = 'm'\n",
    "FOLK.loc[FOLK.gender==\"K\", 'gender'] = 'f'\n",
    "\n",
    "## Age - already an integer\n",
    "\n",
    "## Origin\n",
    "FOLK['origin'] = FOLK['origin'].astype(str)\n",
    "\n",
    "# Lists with all western and non-western countries\n",
    "iw = [5100,5124,5126,5128,5422,5607,5104,5130,5134,5142,5105,5150,5750,5609,5107,5611,5108,5153,5109,5140,5111,5110,5154,5156,5158,5159,5160,5778,5752,5164,5170,5120,5776,5129,5184,5180,5174,5176,5182,5314,5390,5397,5502,5514]\n",
    "ix = [5122,5754,5706,5152,5758,5761,5756,5712,5759,5700,5757,5151,5162,5172,5704,5114,5202,5204,5281,5207,5294,5213,5277,5276,5215,5278,5279,5525,5272,5282,5216,5214,5283,5222,5228,5232,5231,5233,5234,5235,5236,5238,5242,5297,5243,5244,5284,5245,5240,5247,5285,5246,5286,5287,5621,5288,5298,5255,5289,5256,5253,5258,5259,5262,5260,5264,5266,5292,5293,5268,5269,5296,5295,5230,5299,5309,5302,5301,5303,5305,5526,5307,5304,5306,5394,5316,5318,5322,5324,5325,5345,5326,5328,5372,5530,5529,5336,5339,5528,5338,5308,5342,5346,5348,5352,5353,5354,5310,5356,5358,5364,5366,5527,5625,5347,5311,5344,5374,5376,5392,5395,5319,5535,5404,5708,5710,5406,5410,5408,5412,5416,5531,5474,5403,5724,5428,5432,5498,5434,5436,5438,5442,5444,5446,5716,5448,5720,5452,5454,5456,5533,5458,5457,5487,5459,5414,5464,5466,5462,5472,5473,5496,5478,5480,5482,5418,5484,5486,5722,5424,5492,5493,5718,5714,5468,5494,5402,5471,5516,5508,5506,5274,5248,5534,5623,5522,5505,5273,5275,5532,5599,5103,5999]\n",
    "\n",
    "# Defining origin\n",
    "FOLK.loc[(FOLK.origin == \"5\")                         ,'origin'] = \"da\" # da = danish\n",
    "FOLK.loc[(FOLK.origin == \"3\") & (FOLK.IELAND.isin(ix)),'origin'] = \"dx\" # dw = descendant from a western country\n",
    "FOLK.loc[(FOLK.origin == \"3\") & (FOLK.IELAND.isin(iw)),'origin'] = \"dw\" # dx = descendant from a non-western country\n",
    "FOLK.loc[(FOLK.origin == \"4\") & (FOLK.IELAND.isin(ix)),'origin'] = \"ix\" # iw = immigrant from a western country\n",
    "FOLK.loc[(FOLK.origin == \"4\") & (FOLK.IELAND.isin(iw)),'origin'] = \"iw\" # ix = immigrant from a non-western country\n",
    "FOLK = FOLK.drop(columns = ['IELAND'])\n",
    "\n",
    "# Aggregating on year, gender, age, and origin\n",
    "FOLK = FOLK.groupby(['year','gender','age','origin'],as_index=False).sum()\n",
    "\n",
    "## Rearranging the columns\n",
    "cols = ['year','gender','age','origin','pop']\n",
    "FOLK = FOLK[cols]"
   ]
  },
  {
   "cell_type": "markdown",
   "metadata": {},
   "source": [
    "### The population projection (FRDK)\n",
    "We construct our $pop(i,s,\\bar{t})$ in the projectionc years using FRDK. The final FRDK-dataset contains:\n",
    "* year\n",
    "* gender\n",
    "* age\n",
    "* origin - danish, immigrant, or descendant\n",
    "* activ (socio-economic groups)\n",
    "* pop (historic population)"
   ]
  },
  {
   "cell_type": "code",
   "execution_count": 6,
   "metadata": {},
   "outputs": [],
   "source": [
    "## Renaming the columns\n",
    "FRDK.rename(columns = {'HERKOMST':'origin','ALDER':'age','KØN':'gender','TID':'year','INDHOLD':'pop'}, inplace = True)\n",
    "\n",
    "## Year - already an integer\n",
    "\n",
    "## Gender - a character - m=male, and f=female\n",
    "FRDK.loc[FRDK.gender==\"M\", 'gender'] = 'm'\n",
    "FRDK.loc[FRDK.gender==\"K\", 'gender'] = 'f'\n",
    "\n",
    "## Age - already an integer\n",
    "\n",
    "## Origin\n",
    "FRDK[\"origin\"] = FRDK[\"origin\"].astype(str)\n",
    "FRDK.loc[FRDK.origin==\"999\", 'origin'] = 'da' # da = danish\n",
    "FRDK.loc[FRDK.origin==\"24\" , 'origin'] = 'dw' # dw = descendant from a western country\n",
    "FRDK.loc[FRDK.origin==\"25\" , 'origin'] = 'dx' # dx = descendant from a non-western country\n",
    "FRDK.loc[FRDK.origin==\"34\" , 'origin'] = 'iw' # iw = immigrant from a western country\n",
    "FRDK.loc[FRDK.origin==\"35\" , 'origin'] = 'ix' # ix = immigrant from a non-western country\n",
    "\n",
    "## Population - already an integer\n",
    "\n",
    "## Rearranging the columns\n",
    "cols = ['year','gender','age','origin','pop']\n",
    "FRDK = FRDK[cols]"
   ]
  },
  {
   "cell_type": "markdown",
   "metadata": {},
   "source": [
    "## Projection\n",
    "First we find the number of people in different socio-economic groups. Recall that $ a(i,s,t) = freq(i,s,\\bar{t}) \\cdot pop(i,t)$. "
   ]
  },
  {
   "cell_type": "code",
   "execution_count": 7,
   "metadata": {},
   "outputs": [],
   "source": [
    "## Creating a projection year\n",
    "RAS['proj_year']  = RAS['year']\n",
    "RAS = RAS.drop(columns = ['year'])\n",
    "FOLK['proj_year'] = FOLK['year']\n",
    "FRDK['proj_year'] = FRDK['year']\n",
    "\n",
    "## Combining the historic population with the population projection (FOLK and FRDK)\n",
    "proj = FOLK.append(FRDK)\n",
    "proj = proj.sort_values(by=['year','proj_year','gender','age','origin'])\n",
    "\n",
    "## Ensuring that \\bar{t} equals 2017\n",
    "proj.loc[proj.proj_year > 2017,'proj_year'] = 2017\n",
    "\n",
    "## Merges with RAS and find a(i,s,t). a(i,s,t) is the variable 'pop' in the projection dataset 'proj'\n",
    "proj = pd.merge(proj,RAS,on=['proj_year','gender','age','origin'])\n",
    "proj['pop'] = proj['pop'] * proj['freq']\n",
    "\n",
    "## Aggregating to a yearly level on activ-groups\n",
    "proj = proj.groupby(['year','age','activ'],as_index=False).sum()\n",
    "proj = proj.drop(columns = ['proj_year','freq'])"
   ]
  },
  {
   "cell_type": "markdown",
   "metadata": {},
   "source": [
    "### The \"contributer-fraction\"\n",
    "The contributer-fraction shows how many unemploy or otherwise non-working persons there is for each employed person. It is a modified version of the \"forsørgerbrøk\". \n",
    "\n",
    "$$ contributer\\text{-}fraction = \\frac{non\\text{-}working}{working}$$\n"
   ]
  },
  {
   "cell_type": "code",
   "execution_count": 8,
   "metadata": {},
   "outputs": [
    {
     "name": "stderr",
     "output_type": "stream",
     "text": [
      "C:\\Python\\lib\\site-packages\\pandas\\core\\frame.py:3781: SettingWithCopyWarning: \n",
      "A value is trying to be set on a copy of a slice from a DataFrame\n",
      "\n",
      "See the caveats in the documentation: http://pandas.pydata.org/pandas-docs/stable/indexing.html#indexing-view-versus-copy\n",
      "  return super(DataFrame, self).rename(**kwargs)\n"
     ]
    },
    {
     "data": {
      "image/png": "[encoded data removed]",
      "text/plain": [
       "<Figure size 432x288 with 1 Axes>"
      ]
     },
     "metadata": {
      "needs_background": "light"
     },
     "output_type": "display_data"
    }
   ],
   "source": [
    "## Creating a contributer-dataframe 'cont'\n",
    "cont = proj.copy()\n",
    "\n",
    "## Share of people working relativ to not working\n",
    "cont.loc[cont.activ==\"emp\" ,'activ'] = \"work\"\n",
    "cont.loc[cont.activ!=\"work\",'activ'] = \"notwork\"\n",
    "\n",
    "## Aggregating on a yearly level\n",
    "cont = cont.groupby(['year','activ'],as_index=False).sum()\n",
    "cont = cont.drop(columns = ['age'])\n",
    "\n",
    "## Finding the numer of working and non-working people in the projection\n",
    "cont_work = cont.loc[cont.activ == \"work\"]\n",
    "cont_work.rename(columns = {'pop':'work'}, inplace = True)\n",
    "cont_work = cont_work.drop(columns = ['activ'])\n",
    "cont_notwork = cont.loc[cont.activ == \"notwork\"]\n",
    "cont_notwork.rename(columns = {'pop':'notwork'}, inplace = True)\n",
    "cont_notwork = cont_notwork.drop(columns = ['activ'])\n",
    "\n",
    "## Finding the contributer fraction\n",
    "cont = pd.merge(cont_work,cont_notwork,on=['year'])\n",
    "cont['cfrc'] = cont['notwork'] / cont['work'] \n",
    "\n",
    "## Plotting the contributer fraction\n",
    "year = cont['year'].values\n",
    "cfrc = cont['cfrc'].values\n",
    "\n",
    "plt.plot(year,cfrc)\n",
    "plt.show()\n"
   ]
  },
  {
   "cell_type": "markdown",
   "metadata": {},
   "source": [
    "Our results show that the contributer fraction is rising in the future. Each employed person has to contribute with more in the future to support the increasing number of non-working people."
   ]
  },
  {
   "cell_type": "markdown",
   "metadata": {},
   "source": [
    "### Why is the contributer fraction rising\n",
    "We present our results in a bar chart and as a forsørger-brøk. It will be \"meget meget dyrt\" in the future!"
   ]
  },
  {
   "cell_type": "code",
   "execution_count": 9,
   "metadata": {},
   "outputs": [
    {
     "data": {
      "application/vnd.jupyter.widget-view+json": {
       "model_id": "425426791afb4fbfb74b5bd50e997960",
       "version_major": 2,
       "version_minor": 0
      },
      "text/plain": [
       "interactive(children=(IntSlider(value=2008, description='year', max=2060, min=2008), Output()), _dom_classes=(…"
      ]
     },
     "metadata": {},
     "output_type": "display_data"
    }
   ],
   "source": [
    "## Creating an interactiv figure\n",
    "def plot_a_year(y):\n",
    "    # Creating an array for each socio-economic group\n",
    "    plotdata = proj.loc[proj.year == y]\n",
    "    chld = plotdata.loc[plotdata.activ == \"chld\",'pop'].values / 1000\n",
    "    emp  = plotdata.loc[plotdata.activ == \"emp\" ,'pop'].values / 1000\n",
    "    uemp = plotdata.loc[plotdata.activ == \"uemp\",'pop'].values / 1000\n",
    "    oulb = plotdata.loc[plotdata.activ == \"oulb\",'pop'].values / 1000\n",
    "    educ = plotdata.loc[plotdata.activ == \"educ\",'pop'].values / 1000\n",
    "    pens = plotdata.loc[plotdata.activ == \"pens\",'pop'].values / 1000\n",
    "    othr = plotdata.loc[plotdata.activ == \"othr\",'pop'].values / 1000\n",
    "    \n",
    "    # Creating a stacked bar graph\n",
    "    fig = plt.figure(dpi=100)\n",
    "    ax = fig.add_subplot(1,1,1)\n",
    "    ax.bar(np.arange(126),chld,width=1,                                     label = 'Children')\n",
    "    ax.bar(np.arange(126),emp ,width=1,bottom=chld,                         label = 'Employed')\n",
    "    ax.bar(np.arange(126),uemp,width=1,bottom=chld+emp,                     label = 'Unemployed')\n",
    "    ax.bar(np.arange(126),oulb,width=1,bottom=chld+emp+uemp,                label = 'Outside labour force')\n",
    "    ax.bar(np.arange(126),educ,width=1,bottom=chld+emp+uemp+oulb,           label = 'In education')\n",
    "    ax.bar(np.arange(126),pens,width=1,bottom=chld+emp+uemp+oulb+educ,      label = 'Pensioners')\n",
    "    ax.bar(np.arange(126),othr,width=1,bottom=chld+emp+uemp+oulb+educ+pens, label = 'Others')\n",
    "    ax.set_ylim([0,90])\n",
    "    ax.set_xlim([0,110])\n",
    "    ax.legend(loc='center left', bbox_to_anchor=(1, 0.5))\n",
    "    plt.ylabel('1,000 persons')\n",
    "    plt.xlabel('Age')\n",
    "    \n",
    "## Trying the plot\n",
    "wd.interact(plot_a_year,\n",
    "    y=wd.IntSlider(description=\"year\", min=2008, max=2060, step=1, value=2008),\n",
    ");"
   ]
  },
  {
   "cell_type": "markdown",
   "metadata": {},
   "source": [
    "By shifting the year from 2008 to 2060 it is easily seen that the contributer fraction is increasing due to an ageing population. The non-working share of the population will outgrow the working share of the population if the retirement age is kept fixed at 2017-levels (65-years)."
   ]
  },
  {
   "cell_type": "code",
   "execution_count": null,
   "metadata": {},
   "outputs": [],
   "source": []
  },
  {
   "cell_type": "code",
   "execution_count": null,
   "metadata": {},
   "outputs": [],
   "source": []
  }
 ],
 "metadata": {
  "kernelspec": {
   "display_name": "Python 3",
   "language": "python",
   "name": "python3"
  },
  "language_info": {
   "codemirror_mode": {
    "name": "ipython",
    "version": 3
   },
   "file_extension": ".py",
   "mimetype": "text/x-python",
   "name": "python",
   "nbconvert_exporter": "python",
   "pygments_lexer": "ipython3",
   "version": "3.7.1"
  }
 },
 "nbformat": 4,
 "nbformat_minor": 2
}
