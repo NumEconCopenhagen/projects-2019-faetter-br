{
 "cells": [
  {
   "cell_type": "markdown",
   "metadata": {},
   "source": [
    "## Labour market projections\n",
    "This code produces a projection of the Danish labour market from 2017 to 2059 using The Register-based Labour Force Statistics (RAS) and the population projection from Statistics Denmark. The code is structured in four main elements:\n",
    "\n",
    "1. Data collection\n",
    "2. Base projection\n",
    "3. Indexing pension age to life expectancy\n",
    "4. Results\n",
    "\n",
    "The basic principle of the projection is:\n",
    " $$A = \\sum B$$\n"
   ]
  },
  {
   "cell_type": "markdown",
   "metadata": {},
   "source": [
    "## Packages\n",
    "We'll need some packages to do some dirty work for us."
   ]
  },
  {
   "cell_type": "code",
   "execution_count": 61,
   "metadata": {},
   "outputs": [],
   "source": [
    "import requests        # Needed to download the data from Statistics Denmark's API\n",
    "import io              # Also needed to download the data from Statistics Denmark's API\n",
    "import pandas as pd    # Pandas - because everybody loves pandas"
   ]
  },
  {
   "cell_type": "markdown",
   "metadata": {},
   "source": [
    "## 1. Data\n",
    "Now we are ready to stream some data! We'll need the tables RAS200, XX, YY and ZZ."
   ]
  },
  {
   "cell_type": "code",
   "execution_count": 73,
   "metadata": {},
   "outputs": [],
   "source": [
    "## RAS200 - \n",
    "url_RAS200 = 'https://api.statbank.dk/v1/data/RAS200/CSV?valuePresentation=Value&delimiter=Semicolon&BEREGNING=*&TID=2017&ALDER=16-17%2C18-19%2C20-24%2C25-29%2C30-34%2C35-39%2C40-44%2C45-49%2C50-54%2C55-59%2C60-64&HERKOMST=10%2C24%2C25%2C34%2C35&K%C3%98N=M%2CK&OMR%C3%85DE=000'\n",
    "RAS200 = requests.get(url_RAS200).content\n",
    "RAS200 = pd.read_csv(io.StringIO(RAS200.decode('utf-8')),sep=\";\")\n",
    "\n",
    "## XX"
   ]
  },
  {
   "cell_type": "markdown",
   "metadata": {},
   "source": [
    "The next step is to define some variables, which we can use for our projections!\n",
    "\n",
    "* Gender\n",
    "* Age\n",
    "* Origin\n",
    "* Activ\n",
    "* Freq\n",
    "\n",
    "\n"
   ]
  },
  {
   "cell_type": "code",
   "execution_count": null,
   "metadata": {},
   "outputs": [],
   "source": []
  },
  {
   "cell_type": "code",
   "execution_count": null,
   "metadata": {},
   "outputs": [],
   "source": []
  },
  {
   "cell_type": "code",
   "execution_count": null,
   "metadata": {},
   "outputs": [],
   "source": []
  }
 ],
 "metadata": {
  "kernelspec": {
   "display_name": "Python 3",
   "language": "python",
   "name": "python3"
  },
  "language_info": {
   "codemirror_mode": {
    "name": "ipython",
    "version": 3
   },
   "file_extension": ".py",
   "mimetype": "text/x-python",
   "name": "python",
   "nbconvert_exporter": "python",
   "pygments_lexer": "ipython3",
   "version": "3.7.1"
  }
 },
 "nbformat": 4,
 "nbformat_minor": 2
}
