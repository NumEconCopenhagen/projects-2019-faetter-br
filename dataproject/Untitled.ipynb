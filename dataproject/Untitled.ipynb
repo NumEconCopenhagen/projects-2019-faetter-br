{
 "cells": [
  {
   "cell_type": "code",
   "execution_count": 49,
   "metadata": {},
   "outputs": [],
   "source": [
    "from scipy import optimize\n",
    "import numpy as np\n",
    "import pandas as pd"
   ]
  },
  {
   "cell_type": "code",
   "execution_count": null,
   "metadata": {},
   "outputs": [],
   "source": []
  },
  {
   "cell_type": "code",
   "execution_count": 50,
   "metadata": {},
   "outputs": [],
   "source": [
    "mu = 1\n",
    "gamma_d = 0.8\n",
    "gamma_f = 0.8\n",
    "phi = 200\n",
    "\n",
    "E_Y = 2.0\n",
    "E_C = 0.5\n",
    "E_X = 5.0"
   ]
  },
  {
   "cell_type": "code",
   "execution_count": 14,
   "metadata": {},
   "outputs": [],
   "source": [
    "def model(variables) :\n",
    "        (Y,L,w,C_d,C_f,p_d,p_f,P_C,X) = variables\n",
    "\n",
    "        EQ_L_D = mu * (w/p_d)**(-E_Y) * Y - L\n",
    "        EQ_p_d = w*L / Y - p_d\n",
    "        EQ_wN  = p_d*C_d+p_f*C_f - w*L\n",
    "        EQ_C_d = gamma_d * (p_d/P_C)**(-E_C) *w*L/P_C - C_d\n",
    "        EQ_C_f = gamma_f * (p_f/P_C)**(-E_C) *w*L/P_C - C_f\n",
    "        EQ_L_S = 1000 - L\n",
    "        EQ_Y   = C_d + X - Y\n",
    "        EQ_X   = phi*(p_d/p_f)**(-E_X) - X\n",
    "        EQ_p_f = p_f - 1\n",
    "        return [EQ_L_D,EQ_p_d,EQ_wN,EQ_C_d,EQ_C_f,EQ_L_S,EQ_Y,EQ_X,EQ_p_f]"
   ]
  },
  {
   "cell_type": "code",
   "execution_count": 51,
   "metadata": {},
   "outputs": [],
   "source": [
    " #solution = optimize.root(model, (1,1,1,1,1,1,1,1,1,1) )\n",
    " #print(solution)"
   ]
  },
  {
   "cell_type": "code",
   "execution_count": 16,
   "metadata": {},
   "outputs": [
    {
     "name": "stdin",
     "output_type": "stream",
     "text": [
      "Once deleted, variables cannot be recovered. Proceed (y/[n])?  y\n"
     ]
    }
   ],
   "source": [
    "%reset"
   ]
  },
  {
   "cell_type": "code",
   "execution_count": 17,
   "metadata": {},
   "outputs": [],
   "source": [
    "from scipy import optimize\n",
    "import numpy as np\n",
    "import pandas as pd"
   ]
  },
  {
   "cell_type": "code",
   "execution_count": 18,
   "metadata": {},
   "outputs": [],
   "source": [
    "mu = 1\n",
    "gamma_d = 0.8\n",
    "gamma_f = 0.2\n",
    "phi = 200\n",
    "\n",
    "E_Y = 2.0\n",
    "E_C = 0.5\n",
    "E_X = 5.0"
   ]
  },
  {
   "cell_type": "code",
   "execution_count": 19,
   "metadata": {},
   "outputs": [],
   "source": [
    "def model2(variables) :\n",
    "        (Y,X,w,C_d,C_f,p_d,p_f,P_C) = variables\n",
    "        \n",
    "        EQ_L_D = mu * (w/p_d)**(-E_Y) * Y - 1000  \n",
    "        #EQ_p_d = w*L / Y - p_d\n",
    "        EQ_p_d = w*1000 / Y - p_d\n",
    "        #EQ_wN  = p_d*C_d+p_f*C_f - w*L\n",
    "        EQ_wN  = p_d*C_d+p_f*C_f - w*1000\n",
    "        #EQ_C_d = gamma_d * (p_d/P_C)**(-E_C) *w*L/P_C - C_d\n",
    "        EQ_C_d = gamma_d * (p_d/P_C)**(-E_C) *w*1000/1 - C_d\n",
    "        #EQ_C_f = gamma_f * (p_f/P_C)**(-E_C) *w*1000/P_C - C_f\n",
    "        EQ_C_f = gamma_f * (p_f/P_C)**(-E_C) *w*1000/1- C_f\n",
    "        EQ_Y   = C_d + X - Y\n",
    "        EQ_X   = phi*(p_d/p_f)**(-E_X) - X\n",
    "        \n",
    "        EQ_p_f = p_f - 1\n",
    "                \n",
    "        return[EQ_L_D,EQ_p_d,EQ_wN,EQ_C_d,EQ_C_f,EQ_p_f,EQ_Y,EQ_X]"
   ]
  },
  {
   "cell_type": "code",
   "execution_count": 20,
   "metadata": {},
   "outputs": [
    {
     "name": "stdout",
     "output_type": "stream",
     "text": [
      "    fjac: array([[-7.07106604e-01,  7.07106594e-04,  0.00000000e+00,\n",
      "         0.00000000e+00,  0.00000000e+00,  0.00000000e+00,\n",
      "         7.07106604e-01,  0.00000000e+00],\n",
      "       [ 4.08248052e-01, -4.08248046e-04,  0.00000000e+00,\n",
      "         0.00000000e+00,  0.00000000e+00,  0.00000000e+00,\n",
      "         4.08248461e-01, -8.16496513e-01],\n",
      "       [-3.84047802e-01, -1.92023685e-04, -5.76071525e-01,\n",
      "         4.60857220e-01,  1.15214305e-01,  0.00000000e+00,\n",
      "        -3.84047610e-01, -3.84047610e-01],\n",
      "       [-3.78929420e-01, -1.08152508e-03,  3.23668439e-01,\n",
      "        -6.15759359e-01,  2.92090921e-01,  0.00000000e+00,\n",
      "        -3.78928339e-01, -3.78928339e-01],\n",
      "       [-2.05556634e-01, -7.99385411e-05,  4.79632078e-01,\n",
      "         2.74075523e-01, -7.53707601e-01,  0.00000000e+00,\n",
      "        -2.05556554e-01, -2.05556554e-01],\n",
      "       [-4.41029067e-07, -2.64617414e-03, -5.77348983e-01,\n",
      "        -5.77346778e-01, -5.77348983e-01,  0.00000000e+00,\n",
      "         2.20514504e-06,  2.20514504e-06],\n",
      "       [ 1.15316791e-04,  6.91900681e-01, -8.64875719e-04,\n",
      "        -1.44145960e-03, -8.64875719e-04, -7.21989747e-01,\n",
      "        -5.76583879e-04, -5.76583879e-04],\n",
      "       [ 1.20331102e-04,  7.21986541e-01, -9.02483038e-04,\n",
      "        -1.50413847e-03, -9.02483038e-04,  6.91903754e-01,\n",
      "        -6.01655428e-04, -6.01655428e-04]])\n",
      "     fun: array([0., 0., 0., 0., 0., 0., 0., 0.])\n",
      " message: 'The solution converged.'\n",
      "    nfev: 10\n",
      "     qtf: array([0., 0., 0., 0., 0., 0., 0., 0.])\n",
      "       r: array([-1.41421392e+00,  7.07106604e-01,  1.41421388e+03,  7.07106604e-01,\n",
      "        0.00000000e+00, -1.41421393e+03,  0.00000000e+00,  0.00000000e+00,\n",
      "        1.22474497e+00, -8.16496494e+02,  4.08248461e-01,  0.00000000e+00,\n",
      "        1.63299300e+03, -8.16496538e+02,  0.00000000e+00,  1.73589556e+03,\n",
      "       -1.42097635e+00, -6.91285830e-01, -1.02924793e+03, -5.10783357e+02,\n",
      "        1.95864318e+02,  5.60499459e-01,  3.15775179e-02,  1.26309042e+02,\n",
      "       -3.43403754e+02, -2.17094652e+02,  1.23333968e+00,  6.85188105e+01,\n",
      "       -3.42593878e+01,  3.42594492e+01, -2.30940925e+02, -5.77326953e+01,\n",
      "       -2.88673609e+02, -1.38506122e+00, -6.63071411e-01, -6.91903690e-01])\n",
      "  status: 1\n",
      " success: True\n",
      "       x: array([1000.,  200.,    1.,  800.,  200.,    1.,    1.,    1.])\n"
     ]
    }
   ],
   "source": [
    "solution = optimize.root(model2, (1000,200,1,800,200,1,1,1),method='hybr' )\n",
    "print(solution)"
   ]
  },
  {
   "cell_type": "code",
   "execution_count": 33,
   "metadata": {},
   "outputs": [],
   "source": [
    "E_X = 6.0\n",
    "def model2(variables) :\n",
    "        (Y,X,w,C_d,C_f,p_d,p_f,P_C) = variables\n",
    "        \n",
    "        EQ_L_D = mu * (w/p_d)**(-E_Y) * Y - 1100  \n",
    "        #EQ_p_d = w*L / Y - p_d\n",
    "        EQ_p_d = w*1100 / Y - p_d\n",
    "        #EQ_wN  = p_d*C_d+p_f*C_f - w*L\n",
    "        EQ_wN  = p_d*C_d+p_f*C_f - w*1100\n",
    "        #EQ_C_d = gamma_d * (p_d/P_C)**(-E_C) *w*L/P_C - C_d\n",
    "        EQ_C_d = gamma_d * (p_d/P_C)**(-E_C) *w*1100/1 - C_d\n",
    "        #EQ_C_f = gamma_f * (p_f/P_C)**(-E_C) *w*1000/P_C - C_f\n",
    "        EQ_C_f = gamma_f * (p_f/P_C)**(-E_C) *w*1100/1- C_f\n",
    "        EQ_Y   = C_d + X - Y\n",
    "        EQ_X   = 200*(p_d/p_f)**(-5) - X\n",
    "        \n",
    "        EQ_p_f = p_f - 1\n",
    "                \n",
    "        return[EQ_L_D,EQ_p_d,EQ_wN,EQ_C_d,EQ_C_f,EQ_p_f,EQ_Y,EQ_X]"
   ]
  },
  {
   "cell_type": "code",
   "execution_count": 34,
   "metadata": {},
   "outputs": [
    {
     "name": "stdout",
     "output_type": "stream",
     "text": [
      "    fjac: array([[-6.82332359e-01,  7.36524272e-04,  1.30595806e-02,\n",
      "        -1.42675775e-03,  1.95297000e-04, -1.38667126e-18,\n",
      "         7.30766973e-01, -1.51331978e-02],\n",
      "       [ 4.18966831e-01, -4.51535172e-04, -1.80363160e-02,\n",
      "         1.19651455e-03, -3.38911498e-04,  2.04183063e-18,\n",
      "         3.74396748e-01, -8.27022860e-01],\n",
      "       [-4.06540312e-01, -1.74394349e-04, -5.77711840e-01,\n",
      "         4.63462345e-01,  1.14744281e-01,  3.93279179e-19,\n",
      "        -3.75911755e-01, -3.62905956e-01],\n",
      "       [-3.90535293e-01, -1.02084629e-03,  3.19317439e-01,\n",
      "        -6.17157285e-01,  2.79408991e-01,  3.15802608e-18,\n",
      "        -3.79455571e-01, -3.77595666e-01],\n",
      "       [-2.02664045e-01, -7.03935409e-05,  4.76254755e-01,\n",
      "         2.80567654e-01, -7.55992418e-01,  9.39539287e-20,\n",
      "        -2.01205612e-01, -2.03426265e-01],\n",
      "       [-4.87367499e-03, -2.50070279e-03, -5.80490727e-01,\n",
      "        -5.70608486e-01, -5.80722168e-01,  4.36258617e-17,\n",
      "         5.11382778e-03,  1.19196315e-02],\n",
      "       [ 1.31370313e-04,  6.71265329e-01, -8.12672533e-04,\n",
      "        -1.31218562e-03, -8.05849136e-04, -7.41214691e-01,\n",
      "        -5.52772952e-04, -5.34030967e-04],\n",
      "       [ 1.45059201e-04,  7.41211697e-01, -8.97353641e-04,\n",
      "        -1.44891638e-03, -8.89819241e-04,  6.71268040e-01,\n",
      "        -6.10372322e-04, -5.89677407e-04]])\n",
      "     fun: array([ 4.64524419e-10,  1.73749903e-13, -2.08501660e-10,  3.01270120e-11,\n",
      "        2.31068498e-11,  0.00000000e+00,  0.00000000e+00,  4.86011231e-10])\n",
      " message: 'The solution converged.'\n",
      "    nfev: 18\n",
      "     qtf: array([ 9.39186262e-07,  8.48670614e-07,  7.94309071e-07,  1.31891064e-06,\n",
      "        1.00467035e-06, -5.59804634e-07, -2.79822901e-10, -3.08980664e-10])\n",
      "       r: array([-1.36842528e+00,  7.66877970e-01,  1.40406688e+03,  7.80798867e-01,\n",
      "        1.70400910e-02, -1.38895707e+03, -1.25427648e+01,  1.64139331e+00,\n",
      "        1.17413121e+00, -8.11299518e+02,  3.29240682e-01, -1.86747656e-02,\n",
      "        1.73999748e+03, -8.30592868e+02, -1.71416078e+00,  1.92145575e+03,\n",
      "       -1.39065212e+00, -6.89029829e-01, -1.14522457e+03, -4.91070205e+02,\n",
      "        2.18006409e+02,  5.70847184e-01,  4.26964533e-02,  1.33592312e+02,\n",
      "       -3.44467178e+02, -2.40183568e+02,  1.23392964e+00,  7.41416762e+01,\n",
      "       -2.50161572e+01,  4.04455516e+01, -2.61791087e+02, -4.02990774e+01,\n",
      "       -3.14532440e+02, -1.34913678e+00, -6.64755169e-01, -7.34023173e-01])\n",
      "  status: 1\n",
      " success: True\n",
      "       x: array([1.10000000e+03, 2.21828828e+02, 9.79495404e-01, 8.78171172e+02,\n",
      "       2.17280317e+02, 9.79495404e-01, 1.00000000e+00, 1.01669481e+00])\n"
     ]
    }
   ],
   "source": [
    "solution = optimize.root(model2, (1000,200,1,800,200,1,1,1),method='hybr' )\n",
    "print(solution)"
   ]
  },
  {
   "cell_type": "code",
   "execution_count": null,
   "metadata": {},
   "outputs": [],
   "source": []
  },
  {
   "cell_type": "code",
   "execution_count": null,
   "metadata": {},
   "outputs": [],
   "source": [
    "\n",
    "        EQ_L_S = 1000 - L\n",
    "        EQ_Y   = C_d + X - Y\n",
    "        EQ_X   = phi*(p_d/p_f)**(-E_X) - X\n",
    "        EQ_p_f = p_f - 1"
   ]
  },
  {
   "cell_type": "code",
   "execution_count": 45,
   "metadata": {},
   "outputs": [],
   "source": [
    "def f(variables) :\n",
    "        (x,y) = variables\n",
    "\n",
    "        first_eq = x - 100\n",
    "        second_eq = y + 100\n",
    "        return [first_eq, second_eq]"
   ]
  },
  {
   "cell_type": "code",
   "execution_count": 46,
   "metadata": {},
   "outputs": [
    {
     "name": "stdout",
     "output_type": "stream",
     "text": [
      "[ 100. -100.]\n"
     ]
    }
   ],
   "source": [
    "solution = optimize.fsolve(f, (0.1,1) )\n",
    "print(solution)"
   ]
  }
 ],
 "metadata": {
  "kernelspec": {
   "display_name": "Python 3",
   "language": "python",
   "name": "python3"
  },
  "language_info": {
   "codemirror_mode": {
    "name": "ipython",
    "version": 3
   },
   "file_extension": ".py",
   "mimetype": "text/x-python",
   "name": "python",
   "nbconvert_exporter": "python",
   "pygments_lexer": "ipython3",
   "version": "3.7.1"
  }
 },
 "nbformat": 4,
 "nbformat_minor": 2
}
